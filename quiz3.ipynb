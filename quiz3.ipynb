{
 "cells": [
  {
   "cell_type": "code",
   "execution_count": 1,
   "id": "4bc23179-6a2d-4355-a79c-fec22ee6e33a",
   "metadata": {},
   "outputs": [
    {
     "name": "stdout",
     "output_type": "stream",
     "text": [
      "Welcome to Python Programming!\n"
     ]
    }
   ],
   "source": [
    "# Q1. Print a welcome message\n",
    "print(\"Welcome to Python Programming!\")\n"
   ]
  },
  {
   "cell_type": "code",
   "execution_count": 2,
   "id": "40f21efa-2ba1-4678-a89d-b5c63d413b15",
   "metadata": {},
   "outputs": [
    {
     "name": "stdin",
     "output_type": "stream",
     "text": [
      "Enter first number:  4\n",
      "Enter second number:  7\n"
     ]
    },
    {
     "name": "stdout",
     "output_type": "stream",
     "text": [
      "After swapping:\n",
      "First number: 7\n",
      "Second number: 4\n"
     ]
    }
   ],
   "source": [
    "# Q2. Swap Two Variables\n",
    "a = int(input(\"Enter first number: \"))\n",
    "b = int(input(\"Enter second number: \"))\n",
    "a, b = b, a\n",
    "print(\"After swapping:\")\n",
    "print(\"First number:\", a)\n",
    "print(\"Second number:\", b)"
   ]
  },
  {
   "cell_type": "code",
   "execution_count": 3,
   "id": "21a26d18-322d-4a42-bc04-da9128ea4fa5",
   "metadata": {},
   "outputs": [
    {
     "name": "stdin",
     "output_type": "stream",
     "text": [
      "Enter temperature in Celsius:  35\n"
     ]
    },
    {
     "name": "stdout",
     "output_type": "stream",
     "text": [
      "Temperature in Fahrenheit: 95.0\n"
     ]
    }
   ],
   "source": [
    "# Q3. Celsius to Fahrenheit\n",
    "celsius = float(input(\"Enter temperature in Celsius: \"))\n",
    "fahrenheit = (9/5) * celsius + 32\n",
    "print(\"Temperature in Fahrenheit:\", fahrenheit)\n"
   ]
  },
  {
   "cell_type": "code",
   "execution_count": 4,
   "id": "4d04825b-867b-4ddc-9efa-ad884fe40d31",
   "metadata": {},
   "outputs": [
    {
     "name": "stdin",
     "output_type": "stream",
     "text": [
      "Enter a three-digit number:  234\n"
     ]
    },
    {
     "name": "stdout",
     "output_type": "stream",
     "text": [
      "Sum of digits: 9\n"
     ]
    }
   ],
   "source": [
    "# Q4. Sum of digits\n",
    "num = int(input(\"Enter a three-digit number: \"))\n",
    "sum_digits = sum([int(d) for d in str(num)])\n",
    "print(\"Sum of digits:\", sum_digits)"
   ]
  },
  {
   "cell_type": "code",
   "execution_count": 5,
   "id": "040e55e0-f121-448b-b816-3344999da3ac",
   "metadata": {},
   "outputs": [
    {
     "name": "stdin",
     "output_type": "stream",
     "text": [
      "Enter a number:  8\n"
     ]
    },
    {
     "name": "stdout",
     "output_type": "stream",
     "text": [
      "8 is an even number.\n"
     ]
    }
   ],
   "source": [
    "# Q5. Even or Odd\n",
    "n = int(input(\"Enter a number: \"))\n",
    "if n % 2 == 0:\n",
    "    print(n, \"is an even number.\")\n",
    "else:\n",
    "    print(n, \"is an odd number.\")"
   ]
  },
  {
   "cell_type": "code",
   "execution_count": 6,
   "id": "7e51d8e8-af4e-48a3-9d51-8a293d10893b",
   "metadata": {},
   "outputs": [
    {
     "name": "stdin",
     "output_type": "stream",
     "text": [
      "Enter first number:  4\n",
      "Enter second number:  5\n",
      "Enter third number:  8\n"
     ]
    },
    {
     "name": "stdout",
     "output_type": "stream",
     "text": [
      "Largest number: 8.0\n"
     ]
    }
   ],
   "source": [
    "# Q6. Largest of three numbers\n",
    "x = float(input(\"Enter first number: \"))\n",
    "y = float(input(\"Enter second number: \"))\n",
    "z = float(input(\"Enter third number: \"))\n",
    "print(\"Largest number:\", max(x, y, z))\n"
   ]
  },
  {
   "cell_type": "code",
   "execution_count": null,
   "id": "c04eb54b-5756-43f6-b091-193799bafd17",
   "metadata": {},
   "outputs": [],
   "source": []
  }
 ],
 "metadata": {
  "kernelspec": {
   "display_name": "Python [conda env:base] *",
   "language": "python",
   "name": "conda-base-py"
  },
  "language_info": {
   "codemirror_mode": {
    "name": "ipython",
    "version": 3
   },
   "file_extension": ".py",
   "mimetype": "text/x-python",
   "name": "python",
   "nbconvert_exporter": "python",
   "pygments_lexer": "ipython3",
   "version": "3.12.7"
  }
 },
 "nbformat": 4,
 "nbformat_minor": 5
}
